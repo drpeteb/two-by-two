{
 "cells": [
  {
   "cell_type": "markdown",
   "metadata": {},
   "source": [
    "I was reading <a href=\"http://distill.pub/2017/momentum/\">this excellent article</a> today and followed one of the references to <a href=\"http://people.math.carleton.ca/~williams/papers/pdf/175.pdf\">this short note</a> on powers of two-by-two matrices. This led me into a <a href=\"\">wikipedia vortex</a> of learning and re-learning linear algebra. I just wanted to jot down some notes on the original two-by-two matrix thing so I don't forget it, and it doesn't seem to be in the <a href=\"http://www2.imm.dtu.dk/pubdb/views/edoc_download.php/3274/pdf/imm3274.pdf\">matrix cookbook</a>."
   ]
  },
  {
   "cell_type": "markdown",
   "metadata": {},
   "source": [
    "Let $A$ be a $2 \\times 2$ matrix, with eigenvalues $\\lambda_0$ and $\\lambda_1$. By definition,\n",
    "\n",
    "\\begin{align}\n",
    "\\left|B_i\\right| &= 0 \\quad i = 0,1 \\\\\n",
    "B_i &= A - \\lambda_1 I     .\n",
    "\\end{align}\n",
    "\n",
    "The matrix $B_i$ projects anything in the direction of the $(i)$th eigenvector to $0$. Since there is only one other dimension, and assuming for now that $\\lambda_0 \\ne \\lambda_1$, we can rescale this to make it a projection matrix,\n",
    "\n",
    "\\begin{align}\n",
    "P_i = \\frac{B_i}{\\lambda_{1-i} - \\lambda_{i}}   .\n",
    "\\end{align}\n",
    "\n",
    "For these, it is straightforward to check that,\n",
    "\n",
    "\\begin{align}\n",
    "P_i^2 &= P_i \\\\\n",
    "P_0 P_1 &= 0   .\n",
    "\\end{align}\n",
    "\n",
    "Now, since we have one projection which squashes in the first eigenvector direction while leaving the second untouched, and a second which squashes in the second eigenvector direction while leaving the first untouched, it is hardly surprising to find that we can express $A$ as a linear combination of the two,\n",
    "\n",
    "\\begin{align}\n",
    "A = \\lambda_0 P_1 + \\lambda_1 P_0\n",
    "\\end{align}\n",
    "\n",
    "<i>Check:</i>\n",
    "\\begin{align*}\n",
    "A &= \\lambda_0 P_1 + \\lambda_1 P_0 \\\\\n",
    "&= \\frac{\\lambda_0 (A - \\lambda_1 I)}{\\lambda_0 - \\lambda_1} + \\frac{\\lambda_1 (A - \\lambda_0 I)}{\\lambda_1 - \\lambda_0} \\\\\n",
    "&= \\frac{\\lambda_0 (A - \\lambda_1 I) - \\lambda_1 (A - \\lambda_0 I)}{\\lambda_0 - \\lambda_1} \\\\\n",
    "&= \\frac{ (\\lambda_0 - \\lambda_1) A + (\\lambda_0 \\lambda_1 - \\lambda_1 \\lambda_0) I }{\\lambda_1 - \\lambda_0} \\\\\n",
    "&= A\n",
    "\\end{align*}\n",
    "\n",
    "Now, if we square $A$,\n",
    "\n",
    "\\begin{align}\n",
    "A^2 &= (\\lambda_0 P_1 + \\lambda_1 P_0)^2 \\nonumber \\\\\n",
    " &= \\lambda_0^2 P_1^2 + \\lambda_0 \\lambda_1 P_0 P_1 + \\lambda_1^2 P_0^2 \\nonumber \\\\\n",
    " &= \\lambda_0^2 P_1 + \\lambda_1^2 P_0 \\nonumber \\\\\n",
    "\\end{align}\n",
    "\n",
    "Using this, and trivial proof by induction,\n",
    "\n",
    "\\begin{align}\n",
    "A^n &= \\lambda_0^n P_1 + \\lambda_1^n P_0   .\n",
    "\\end{align}"
   ]
  },
  {
   "cell_type": "markdown",
   "metadata": {},
   "source": [
    "One last thing. If $\\lambda_0 = \\lambda_1 = \\lambda$, then we only have one eigenvalue,\n",
    "\n",
    "\\begin{align}\n",
    "B &= A - \\lambda I   .\n",
    "\\end{align}\n",
    "\n",
    "This can mean one of two things. Either $A = \\lambda I$, in which case the matrix describes a simple scaling and $B = 0$. Or $A$ is defective, having only one eigenvector, which in geometric terms is a skew. In this case we can choose a generalised eigenvector basis, and easily show that $B^2 = 0$.\n",
    "\n",
    "We can write $A$ trivially as,\n",
    "\n",
    "\\begin{align}\n",
    "A = \\lambda I + B  .\n",
    "\\end{align}\n",
    "\n",
    "And then we get,\n",
    "\n",
    "\\begin{align}\n",
    "A^2 &= (\\lambda I + B)^2 \\nonumber \\\\\n",
    " &= \\lambda^2 I + 2 \\lambda B + B^2 \\nonumber \\\\\n",
    " &= \\lambda^2 I + 2 \\lambda B    .\n",
    "\\end{align}\n",
    "\n",
    "And by induction,\n",
    "\n",
    "\\begin{align}\n",
    "A^n &= \\lambda^n I + n \\lambda^{n-1} B    .\n",
    "\\end{align}"
   ]
  }
 ],
 "metadata": {
  "kernelspec": {
   "display_name": "Python 3",
   "language": "python",
   "name": "python3"
  },
  "language_info": {
   "codemirror_mode": {
    "name": "ipython",
    "version": 3
   },
   "file_extension": ".py",
   "mimetype": "text/x-python",
   "name": "python",
   "nbconvert_exporter": "python",
   "pygments_lexer": "ipython3",
   "version": "3.4.3"
  }
 },
 "nbformat": 4,
 "nbformat_minor": 2
}
